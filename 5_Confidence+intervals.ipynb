{
 "cells": [
  {
   "cell_type": "markdown",
   "metadata": {},
   "source": [
    "Lets use the `scipy.stats` module in Python to compute the confidence interval:\n",
    "\n",
    "In this code, `stats.norm.interval()` is used to calculate the confidence interval. The arguments to this function are the confidence level (0.95 for a 95% confidence interval), the location parameter (which is the sample mean), and the scale parameter (which is the standard error of the mean).\n",
    "\n",
    "The result will be a tuple representing the lower and upper bounds of the 95% confidence interval for the mean decrease in systolic blood pressure in the population.\n",
    "\n",
    "Please note that this calculation assumes the decrease in blood pressure follows a normal distribution in the population. This is a reasonable assumption if the sample size is large due to the Central Limit Theorem, or if you have prior knowledge that the variable is normally distributed."
   ]
  },
  {
   "cell_type": "code",
   "execution_count": 15,
   "metadata": {},
   "outputs": [
    {
     "name": "stdout",
     "output_type": "stream",
     "text": [
      "The 95% confidence interval is (11.690102483847719, 12.309897516152281)\n"
     ]
    }
   ],
   "source": [
    "import scipy.stats as stats\n",
    "import numpy as np\n",
    "\n",
    "# sample size\n",
    "n = 1000\n",
    "\n",
    "# sample mean\n",
    "x_bar = 12\n",
    "\n",
    "# sample standard deviation\n",
    "s = 5\n",
    "\n",
    "# calculate the standard error\n",
    "se = s / np.sqrt(n)\n",
    "\n",
    "# calculate the 95% confidence interval\n",
    "ci = stats.norm.interval(0.95, loc=x_bar, scale=se)\n",
    "\n",
    "print(f\"The 95% confidence interval is {ci}\")"
   ]
  },
  {
   "cell_type": "markdown",
   "metadata": {},
   "source": []
  }
 ],
 "metadata": {
  "kernelspec": {
   "display_name": "Python 3",
   "language": "python",
   "name": "python3"
  },
  "language_info": {
   "codemirror_mode": {
    "name": "ipython",
    "version": 3
   },
   "file_extension": ".py",
   "mimetype": "text/x-python",
   "name": "python",
   "nbconvert_exporter": "python",
   "pygments_lexer": "ipython3",
   "version": "3.10.8"
  }
 },
 "nbformat": 4,
 "nbformat_minor": 2
}
