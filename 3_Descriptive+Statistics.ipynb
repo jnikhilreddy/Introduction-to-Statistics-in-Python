{
 "cells": [
  {
   "cell_type": "markdown",
   "metadata": {},
   "source": [
    " # **Descriptive Statistics**"
   ]
  },
  {
   "cell_type": "markdown",
   "metadata": {},
   "source": [
    "##  Mean, Median and Mode"
   ]
  },
  {
   "cell_type": "markdown",
   "metadata": {},
   "source": [
    "###  Mean\n",
    "\n",
    "Mean is just the average value"
   ]
  },
  {
   "cell_type": "code",
   "execution_count": 88,
   "metadata": {},
   "outputs": [
    {
     "data": {
      "text/plain": [
       "59869.49966730689"
      ]
     },
     "execution_count": 88,
     "metadata": {},
     "output_type": "execute_result"
    }
   ],
   "source": [
    "import numpy as np\n",
    "incomes = np.random.normal(60000, 15000, 10000)\n",
    "np.mean(incomes)"
   ]
  },
  {
   "cell_type": "markdown",
   "metadata": {},
   "source": [
    "Above we generate some sample data with a **normal distribution** (about distributions see below). The **median** point is set to 60000 with **standard deviation** (spread of data) of 15000 and size of 10000 (number of elements)\n",
    "\n",
    "We can segment the income data into 50 buckets and plot it as a histogram"
   ]
  },
  {
   "cell_type": "code",
   "execution_count": 89,
   "metadata": {},
   "outputs": [
    {
     "data": {
      "image/png": "[encoded data removed]",
      "text/plain": [
       "<Figure size 640x480 with 1 Axes>"
      ]
     },
     "metadata": {},
     "output_type": "display_data"
    }
   ],
   "source": [
    "import matplotlib.pyplot as plt\n",
    "\n",
    "plt.hist(incomes, 50)\n",
    "plt.show()\n"
   ]
  },
  {
   "cell_type": "markdown",
   "metadata": {},
   "source": [
    "##  Median (middle)\n",
    "\n",
    "Median is the middle value. If the number of elements in data set is even, we take two middle values and compute their average to get the median. When we analyze the data, we need to look at it's distribution, if it has many outliers the mean can be skewed and looking at median is more useful. "
   ]
  },
  {
   "cell_type": "code",
   "execution_count": 90,
   "metadata": {},
   "outputs": [
    {
     "data": {
      "text/plain": [
       "59992.23342326873"
      ]
     },
     "execution_count": 90,
     "metadata": {},
     "output_type": "execute_result"
    }
   ],
   "source": [
    "incomes = np.append(incomes, [1000000000000000])\n",
    "np.median(incomes)\n"
   ]
  },
  {
   "cell_type": "markdown",
   "metadata": {},
   "source": [
    "Median didn't change much when we added a giant outlier, but the mean changed a lot. "
   ]
  },
  {
   "cell_type": "code",
   "execution_count": 91,
   "metadata": {},
   "outputs": [
    {
     "data": {
      "text/plain": [
       "99990060863.41331"
      ]
     },
     "execution_count": 91,
     "metadata": {},
     "output_type": "execute_result"
    }
   ],
   "source": [
    "np.mean(incomes)"
   ]
  },
  {
   "cell_type": "markdown",
   "metadata": {},
   "source": [
    "## Mode\n",
    "\n",
    "Mode is just the most common value in a data set"
   ]
  },
  {
   "cell_type": "code",
   "execution_count": 92,
   "metadata": {
    "scrolled": true
   },
   "outputs": [
    {
     "data": {
      "text/plain": [
       "array([83, 52, 68, 89, 35, 53, 55, 56, 24, 75, 43, 56, 56, 64, 77, 76, 76,\n",
       "       26, 52, 37, 80, 55, 62, 62, 72, 59, 27, 48, 75, 27, 50, 37, 28, 87,\n",
       "       37, 59, 62, 65, 35, 52, 85, 77, 57, 52, 61, 51, 20, 50, 32, 75])"
      ]
     },
     "execution_count": 92,
     "metadata": {},
     "output_type": "execute_result"
    }
   ],
   "source": [
    "ages = np.random.randint(18, high=90, size=50)\n",
    "ages"
   ]
  },
  {
   "cell_type": "code",
   "execution_count": 93,
   "metadata": {},
   "outputs": [
    {
     "data": {
      "text/plain": [
       "ModeResult(mode=52, count=4)"
      ]
     },
     "execution_count": 93,
     "metadata": {},
     "output_type": "execute_result"
    }
   ],
   "source": [
    "from scipy import stats\n",
    "stats.mode(ages)"
   ]
  },
  {
   "cell_type": "markdown",
   "metadata": {},
   "source": [
    "# Variance and Standard Deviation"
   ]
  },
  {
   "cell_type": "markdown",
   "metadata": {},
   "source": [
    "##  Variance\n",
    "\n",
    "Varience measures how spread out the data is. It's simply the average of the squared differences from the mean.\n",
    "Example: What is the varience of data set (1,4,5,4,8) ?\n",
    "    \n",
    "  * first find the mean: (1+4+5+4+8)/5 = 4.4\n",
    "  * now find the difference from the mean: (-3.4, -0.4, 0.6, -0.4, 3.6)\n",
    "  * find the squared differences (11.56, 0.16, 0.36, 0.16, 12.96)\n",
    "  * find the average of the squared differences \n",
    "  * $ Variance = \\sigma^2 $\n",
    "  * $ \\sigma^2 = (11.56 + 0.16 + 0.36 + 0.16 + 12.96) / 5 = 5.04 $\n",
    "  \n"
   ]
  },
  {
   "cell_type": "markdown",
   "metadata": {},
   "source": [
    "##  Standard deviation \n",
    "\n",
    "Tipically we talk about standard deviation and not variance. Standard deviation is just the square root of the variance. \n",
    "\n",
    "$ \\sigma^2 = 5.04 $\n",
    "\n",
    "$ \\sigma = \\sqrt 5.04 = 2.24 $\n",
    "\n",
    "Standard deviation is usually used as a way to identify outliers. Data points that lie more than one standard deviation from the mean, can \n",
    "be considered unusual.\n",
    "\n",
    "You can talk about how extreme a data point is by talking about \"how many sigmas\" away from the mean it is. \n"
   ]
  },
  {
   "cell_type": "markdown",
   "metadata": {},
   "source": [
    "## Population vs Sample\n",
    "\n",
    "If you are working with a sample of data instead of an entire data set (the entire population), then you need to use the **sample variance** instead of **population variance** \n",
    "\n",
    "For N samples, you just divide the squared varience by N-1 instead of N.\n",
    "\n",
    "So, in our example above, we computed population varience like this:\n",
    "* $ \\sigma^2 = (11.56 + 0.16 + 0.36 + 0.16 + 12.96) / 5 = 5.04 $\n",
    "\n",
    "But the sample variance would be: \n",
    "* $ s^2 = (11.56 + 0.16 + 0.36 + 0.16 + 12.96) / 4 = 6.3 $\n",
    "\n"
   ]
  },
  {
   "cell_type": "markdown",
   "metadata": {},
   "source": [
    "##  Math Notation\n",
    "\n",
    "* X = data point\n",
    "* $\\mu$ = mean\n",
    "* Population varience\n",
    " * $ \\sigma^2 = \\frac{\\Sigma(X - \\mu)^2} {N}$\n",
    "* Sample variance\n",
    " * $ s^2 = \\frac{\\Sigma(X - \\mu)^2} {N-1}$"
   ]
  },
  {
   "cell_type": "markdown",
   "metadata": {},
   "source": [
    "##  Example\n"
   ]
  },
  {
   "cell_type": "code",
   "execution_count": 94,
   "metadata": {},
   "outputs": [
    {
     "data": {
      "image/png": "[encoded data removed]",
      "text/plain": [
       "<Figure size 640x480 with 1 Axes>"
      ]
     },
     "metadata": {},
     "output_type": "display_data"
    }
   ],
   "source": [
    "import numpy as np\n",
    "import matplotlib.pyplot as plt\n",
    "\n",
    "# median is at 100, standard deviation is 20, 10000 data points\n",
    "# as we can see if you go left/right from median by 20, graph starts to fall sharply\n",
    "hourly_rates = np.random.normal(100, 20.0, 10000)\n",
    "\n",
    "plt.hist(hourly_rates, 50)\n",
    "plt.show()"
   ]
  },
  {
   "cell_type": "code",
   "execution_count": 95,
   "metadata": {},
   "outputs": [
    {
     "data": {
      "text/plain": [
       "19.782176333771222"
      ]
     },
     "execution_count": 95,
     "metadata": {},
     "output_type": "execute_result"
    }
   ],
   "source": [
    "# get standard deviation\n",
    "hourly_rates.std()"
   ]
  },
  {
   "cell_type": "code",
   "execution_count": 96,
   "metadata": {},
   "outputs": [
    {
     "data": {
      "text/plain": [
       "391.33450050041824"
      ]
     },
     "execution_count": 96,
     "metadata": {},
     "output_type": "execute_result"
    }
   ],
   "source": [
    "# get variance\n",
    "hourly_rates.var()"
   ]
  },
  {
   "cell_type": "markdown",
   "metadata": {},
   "source": [
    "# Probability functions \n",
    "\n",
    "##  Probability density functions\n",
    "\n",
    "Probabbility of a given range of values occuring in continious data set (infinite) \n",
    "\n",
    "###  Normal distibution\n",
    "\n",
    "![Normal Distribution](https://dietassessmentprimer.cancer.gov/images/learn/distribution2.jpg)\n",
    "\n",
    "There is a 34.1% chance of range of values occuring between mean and 1 standard deviation to the left and also a 34.1% chance of range of values occuring  between mean and 1 standard deviation to the right. \n",
    "\n"
   ]
  },
  {
   "cell_type": "markdown",
   "metadata": {},
   "source": [
    "##  Probability mass function\n",
    "\n",
    "When we are dealing with discrete data we talk about probability mass function and not probability density function.\n",
    "It measures the probabilty of a discrete value occuring in a data set.\n",
    "\n",
    "\n"
   ]
  },
  {
   "cell_type": "markdown",
   "metadata": {},
   "source": [
    "# Examples of data distributions \n",
    "\n",
    "## Uniform distribution\n",
    "\n",
    "There is an equal chance of any given value occuring within a specified data range."
   ]
  },
  {
   "cell_type": "code",
   "execution_count": 97,
   "metadata": {},
   "outputs": [
    {
     "data": {
      "image/png": "[encoded data removed]",
      "text/plain": [
       "<Figure size 640x480 with 1 Axes>"
      ]
     },
     "metadata": {},
     "output_type": "display_data"
    }
   ],
   "source": [
    "values = np.random.uniform(-10.0, 10.0, 10000)\n",
    "plt.hist(values, 50)\n",
    "plt.show()"
   ]
  },
  {
   "cell_type": "markdown",
   "metadata": {},
   "source": [
    "##  Normal / Gaussian "
   ]
  },
  {
   "cell_type": "markdown",
   "metadata": {},
   "source": [
    "Here we are creating a list of values from -3 to 3 with the increment of 0.001, those are our x values on the graph. \n",
    "On the y axis there is a probability density function (pdf) for a normal distribution on those x values."
   ]
  },
  {
   "cell_type": "code",
   "execution_count": 98,
   "metadata": {},
   "outputs": [
    {
     "data": {
      "text/plain": [
       "[<matplotlib.lines.Line2D at 0x7f23bcb2c070>]"
      ]
     },
     "execution_count": 98,
     "metadata": {},
     "output_type": "execute_result"
    },
    {
     "data": {
      "image/png": "[encoded data removed]",
      "text/plain": [
       "<Figure size 640x480 with 1 Axes>"
      ]
     },
     "metadata": {},
     "output_type": "display_data"
    }
   ],
   "source": [
    "from scipy.stats import norm\n",
    "import matplotlib.pyplot as plt\n",
    "\n",
    "x = np.arange(-3, 3, 0.001)\n",
    "plt.plot(x, norm.pdf(x))"
   ]
  },
  {
   "cell_type": "markdown",
   "metadata": {},
   "source": [
    "Generate some random numbers with a normal distribution. \"mu\" is the desired mean, \"sigma\" is the standard deviation."
   ]
  },
  {
   "cell_type": "code",
   "execution_count": 99,
   "metadata": {},
   "outputs": [
    {
     "data": {
      "image/png": "[encoded data removed]",
      "text/plain": [
       "<Figure size 640x480 with 1 Axes>"
      ]
     },
     "metadata": {},
     "output_type": "display_data"
    }
   ],
   "source": [
    "mu = 0.5\n",
    "sigma = 2.0\n",
    "values = np.random.normal(mu, sigma, 10000)\n",
    "plt.hist(values, 50)\n",
    "plt.show()"
   ]
  },
  {
   "cell_type": "markdown",
   "metadata": {},
   "source": [
    "## Exponential proability density function / \"Power Law\"\n",
    "\n"
   ]
  },
  {
   "cell_type": "code",
   "execution_count": 100,
   "metadata": {},
   "outputs": [
    {
     "data": {
      "text/plain": [
       "[<matplotlib.lines.Line2D at 0x7f23bca63a30>]"
      ]
     },
     "execution_count": 100,
     "metadata": {},
     "output_type": "execute_result"
    },
    {
     "data": {
      "image/png": "[encoded data removed]",
      "text/plain": [
       "<Figure size 640x480 with 1 Axes>"
      ]
     },
     "metadata": {},
     "output_type": "display_data"
    }
   ],
   "source": [
    "from scipy.stats import expon\n",
    "\n",
    "x = np.arange(0, 10, 0.01)\n",
    "#expon.pdf(x) this maps  values from x to (1.0..0), simulates an exponential drop\n",
    "plt.plot(x, expon.pdf(x))"
   ]
  },
  {
   "cell_type": "markdown",
   "metadata": {},
   "source": [
    "# Correlation \n",
    "\n",
    "Variables within a dataset can be related for lots of reasons.\n",
    "For example: \n",
    " * One variable could cause or depend on the values of another variable.\n",
    " * One variable could be lightly associated with another variable.\n",
    " * Two variables could depend on a third unknown variable\n",
    " \n",
    " It can be useful in data analysis and modeling to better understand the relationships between variables. The statistical relationship between two variables is referred to as their correlation.\n",
    " \n",
    " A correlation could be positive, meaning both variables move in the same direction, or negative, meaning that when one variable’s value increases, the other variables’ values decrease. Correlation can also be neutral or zero, meaning that the variables are unrelated.\n",
    " \n",
    " \n",
    "* Positive Correlation: both variables change in the same direction.\n",
    "* Neutral Correlation: No relationship in the change of the variables.\n",
    "* Negative Correlation: variables change in opposite directions.\n",
    "\n",
    "\n"
   ]
  },
  {
   "cell_type": "markdown",
   "metadata": {},
   "source": [
    "## Covariance\n",
    "\n",
    "Before we can talk about how to compute correlation, we must first talk about covariance. Covariance is a linear relationship between two variables. \n",
    "\n",
    "The calculation of the sample covariance between two data points x and y from dataset X and Y is as follows: \n",
    "\n",
    "cov(x,y) = $ \\frac{\\Sigma (x - \\mu X) (y - \\mu Y)}{n - 1} $"
   ]
  },
  {
   "cell_type": "markdown",
   "metadata": {},
   "source": [
    "The sign of the covariance can be interpreted as whether the two variables change in the same direction (positive) or change in different directions (negative). The magnitude of the covariance is not easily interpreted. A covariance value of zero indicates that both variables are completely independent."
   ]
  },
  {
   "cell_type": "markdown",
   "metadata": {},
   "source": [
    "\n",
    "A problem with covariance as a statistical tool alone is that it is challenging to interpret. This leads us to the Pearson’s correlation coefficient next.\n"
   ]
  },
  {
   "cell_type": "markdown",
   "metadata": {},
   "source": [
    "## Pearson's Correlation\n",
    "\n",
    "The Pearson correlation coefficient (named for Karl Pearson) can be used to summarize the strength of the linear relationship between two data samples.\n",
    "\n",
    "The Pearson’s correlation coefficient is calculated as the covariance of the two variables divided by the product of the standard deviation of each data sample. It is the normalization of the covariance between the two variables to give an interpretable score.\n",
    "\n",
    "Pearson's correlation coefficient = covariance(X, Y) / (stdv(X) * stdv(Y))\n",
    "\n",
    "The use of mean and standard deviation in the calculation suggests the need for the two data samples to have a Gaussian or Gaussian-like distribution.\n",
    "\n",
    "The result of the calculation, the correlation coefficient can be interpreted to understand the relationship.\n",
    "\n",
    "The coefficient returns a value between -1 and 1 that represents the limits of correlation from a full negative correlation to a full positive correlation. A value of 0 means no correlation. The value must be interpreted, where often a value below -0.5 or above 0.5 indicates a notable correlation, and values below those values suggests a less notable correlation.\n",
    "\n",
    "The pearsonr() SciPy function can be used to calculate the Pearson’s correlation coefficient between two data samples with the same length.\n",
    "\n"
   ]
  },
  {
   "cell_type": "markdown",
   "metadata": {},
   "source": [
    "## Spearman's Correlation\n",
    "\n",
    "Two variables may be related by a nonlinear relationship, such that the relationship is stronger or weaker across the distribution of the variables.\n",
    "\n",
    "Further, the two variables being considered may have a non-Gaussian distribution.\n",
    "\n",
    "In this case, the Spearman’s correlation coefficient (named for Charles Spearman) can be used to summarize the strength between the two data samples. This test of relationship can also be used if there is a linear relationship between the variables, but will have slightly less power (e.g. may result in lower coefficient scores).\n",
    "\n",
    "As with the Pearson correlation coefficient, the scores are between -1 and 1 for perfectly negatively correlated variables and perfectly positively correlated respectively.\n",
    "\n",
    "Instead of calculating the coefficient using covariance and standard deviations on the samples themselves, these statistics are calculated from the relative rank of values on each sample. This is a common approach used in non-parametric statistics, e.g. statistical methods where we do not assume a distribution of the data such as Gaussian."
   ]
  },
  {
   "cell_type": "markdown",
   "metadata": {},
   "source": [
    "Spearman's correlation coefficient = covariance(rank(X), rank(Y)) / (stdv(rank(X)) * stdv(rank(Y)))"
   ]
  },
  {
   "cell_type": "markdown",
   "metadata": {},
   "source": [
    "A linear relationship between the variables is not assumed, although a monotonic relationship is assumed. This is a mathematical name for an increasing or decreasing relationship between the two variables.\n",
    "\n",
    "If you are unsure of the distribution and possible relationships between two variables, Spearman correlation coefficient is a good tool to use.\n",
    "\n",
    "The spearmanr() SciPy function can be used to calculate the Spearman’s correlation coefficient between two data samples with the same length."
   ]
  },
  {
   "cell_type": "code",
   "execution_count": 101,
   "metadata": {},
   "outputs": [
    {
     "name": "stdout",
     "output_type": "stream",
     "text": [
      "     total_bill   tip     sex smoker   day    time  size\n",
      "0         16.99  1.01  Female     No   Sun  Dinner     2\n",
      "1         10.34  1.66    Male     No   Sun  Dinner     3\n",
      "2         21.01  3.50    Male     No   Sun  Dinner     3\n",
      "3         23.68  3.31    Male     No   Sun  Dinner     2\n",
      "4         24.59  3.61  Female     No   Sun  Dinner     4\n",
      "..          ...   ...     ...    ...   ...     ...   ...\n",
      "239       29.03  5.92    Male     No   Sat  Dinner     3\n",
      "240       27.18  2.00  Female    Yes   Sat  Dinner     2\n",
      "241       22.67  2.00    Male    Yes   Sat  Dinner     2\n",
      "242       17.82  1.75    Male     No   Sat  Dinner     2\n",
      "243       18.78  3.00  Female     No  Thur  Dinner     2\n",
      "\n",
      "[244 rows x 7 columns]\n"
     ]
    }
   ],
   "source": [
    "\n",
    "import seaborn as sns\n",
    "import numpy as np\n",
    "from scipy.stats import pearsonr\n",
    "from scipy.stats import spearmanr\n",
    "\n",
    "\n",
    "# Load the example tips dataset\n",
    "tips = sns.load_dataset(\"tips\")\n",
    "\n",
    "print(tips)"
   ]
  },
  {
   "cell_type": "code",
   "execution_count": 102,
   "metadata": {},
   "outputs": [
    {
     "name": "stdout",
     "output_type": "stream",
     "text": [
      "Covariance:\n",
      "[[79.25293861  8.32350163]\n",
      " [ 8.32350163  1.91445464]]\n",
      "\n",
      "Pearson Correlation: 0.6757341092113647\n",
      "\n",
      "Spearman Correlation: 0.6789681219001009\n"
     ]
    },
    {
     "data": {
      "image/png": "[encoded data removed]",
      "text/plain": [
       "<Figure size 640x480 with 2 Axes>"
      ]
     },
     "metadata": {},
     "output_type": "display_data"
    }
   ],
   "source": [
    "# Calculate the covariance\n",
    "covariance = np.cov(tips['total_bill'], tips['tip'])\n",
    "print(f\"Covariance:\\n{covariance}\")\n",
    "sns.heatmap(covariance)\n",
    "\n",
    "# Calculate the correlation\n",
    "correlation, _ = pearsonr(tips['total_bill'], tips['tip'])\n",
    "correlation1, _ = spearmanr(tips['total_bill'], tips['tip'])\n",
    "\n",
    "print(f\"\\nPearson Correlation: {correlation}\")\n",
    "print(f\"\\nSpearman Correlation: {correlation1}\")"
   ]
  },
  {
   "cell_type": "markdown",
   "metadata": {},
   "source": [
    "As with the Pearson’s correlation coefficient, the coefficient can be calculated pair-wise for each variable in a dataset to give a correlation matrix for review."
   ]
  }
 ],
 "metadata": {
  "kernelspec": {
   "display_name": "Python 3",
   "language": "python",
   "name": "python3"
  },
  "language_info": {
   "codemirror_mode": {
    "name": "ipython",
    "version": 3
   },
   "file_extension": ".py",
   "mimetype": "text/x-python",
   "name": "python",
   "nbconvert_exporter": "python",
   "pygments_lexer": "ipython3",
   "version": "3.10.8"
  }
 },
 "nbformat": 4,
 "nbformat_minor": 2
}
